{
 "metadata": {
  "language_info": {
   "codemirror_mode": {
    "name": "ipython",
    "version": 3
   },
   "file_extension": ".py",
   "mimetype": "text/x-python",
   "name": "python",
   "nbconvert_exporter": "python",
   "pygments_lexer": "ipython3",
   "version": "3.8.3-final"
  },
  "orig_nbformat": 2,
  "kernelspec": {
   "name": "python3",
   "display_name": "Python 3"
  }
 },
 "nbformat": 4,
 "nbformat_minor": 2,
 "cells": [
  {
   "cell_type": "code",
   "execution_count": 7,
   "metadata": {},
   "outputs": [
    {
     "output_type": "stream",
     "name": "stdout",
     "text": [
      "Programmet räknar ut ett rätblock med sidorna som du matar in.\n",
      "Arean för basen är 4ae.\n",
      "Basen är en kvadrat\n",
      "Höjden    | Volymen\n",
      "1le       |     4ve\n",
      "2le       |     8ve\n",
      "3le       |     12ve\n",
      "4le       |     16ve\n",
      "5le       |     20ve\n",
      "6le       |     24ve\n",
      "7le       |     28ve\n",
      "8le       |     32ve\n",
      "9le       |     36ve\n",
      "10le       |     40ve\n"
     ]
    }
   ],
   "source": [
    "#upg A\n",
    "print(\"Programmet räknar ut ett rätblock med sidorna som du matar in.\")\n",
    "sida1=int(input(\"Ange längden för sida 1\"))\n",
    "sida2=int(input(\"Ange längden för sida 2\"))\n",
    "print(f\"Arean för basen är {sida1*sida2}ae.\")\n",
    "if sida1 == sida2:\n",
    "    print(\"Basen är en kvadrat\")\n",
    "else:\n",
    "    print(\"Basen är inte en kvadrat\")\n",
    "print(\"Höjden    | Volymen\")\n",
    "for i in range(1,11):\n",
    "    print(f\"{i}le       |     {i*sida1*sida2}ve\")"
   ]
  },
  {
   "cell_type": "code",
   "execution_count": 11,
   "metadata": {},
   "outputs": [
    {
     "output_type": "stream",
     "name": "stdout",
     "text": [
      "Programmet räknar ut ett rätblock med sidorna som du matar in.\n",
      "Arean för basen är 4ae.\n",
      "Basen är en kvadrat\n",
      "Höjden    | Volymen\n",
      "1le       |     4ve\n",
      "2le       |     8ve\n",
      "3le       |     12ve\n",
      "4le       |     16ve\n",
      "5le       |     20ve\n",
      "6le       |     24ve\n",
      "7le       |     28ve\n",
      "8le       |     32ve\n",
      "9le       |     36ve\n",
      "10le       |     40ve\n",
      "\n",
      "Sidona är 2 och 2 Rektegeln är en kvadrat\n",
      "\n"
     ]
    }
   ],
   "source": [
    "#upg B\n",
    "again=\"y\"\n",
    "areor=[]\n",
    "antalrektanglar=0\n",
    "print(\"Programmet räknar ut ett rätblock med sidorna som du matar in.\")\n",
    "while again==\"y\":\n",
    "    areor.append([])\n",
    "    sida1=int(input(\"Ange längden för sida 1\"))\n",
    "    areor[antalrektanglar].append(sida1)\n",
    "    sida2=int(input(\"Ange längden för sida 2\"))\n",
    "    areor[antalrektanglar].append(sida2)\n",
    "    print(f\"Arean för basen är {sida1*sida2}ae.\")\n",
    "    if sida1 == sida2:\n",
    "        print(\"Basen är en kvadrat\")\n",
    "        areor[antalrektanglar].append(\"true\")\n",
    "    else:\n",
    "        print(\"Basen är inte en kvadrat\")\n",
    "        areor[antalrektanglar].append(\"false\")\n",
    "    print(\"Höjden    | Volymen\")\n",
    "    antalrektanglar+=1\n",
    "    for i in range(1,11):\n",
    "        print(f\"{i}le       |     {i*sida1*sida2}ve\")\n",
    "    print()\n",
    "    again=str(input(\"Vill du göra en uträkning till? (y/n)\"))\n",
    "for u in areor:\n",
    "    print(f\"Sidona är {u[0]} och {u[1]}\",end=\" \")\n",
    "    if u[2]==\"true\":\n",
    "        print(\"Rektegeln är en kvadrat\")\n",
    "    else:\n",
    "        print(\"Rektageln är inte en kvadrat\")\n",
    "    print()"
   ]
  },
  {
   "cell_type": "code",
   "execution_count": 20,
   "metadata": {},
   "outputs": [
    {
     "output_type": "stream",
     "name": "stdout",
     "text": [
      "Programmet räknar ut ett rätblock med sidorna som du matar in.\n",
      "Du måste ange ett nummer!\n",
      "Du måste ange ett nummer!\n",
      "Du måste ange ett nummer!\n",
      "Arean för basen är 9ae. (Area enheter)\n",
      "Basen är en kvadrat\n",
      "Höjden    | Volymen\n",
      "1le       | 9ve\n",
      "2le       | 18ve\n",
      "3le       | 27ve\n",
      "\n"
     ]
    }
   ],
   "source": [
    "#upg C\n",
    "again=\"y\"\n",
    "areor=[]\n",
    "print(\"Programmet räknar ut ett rätblock med sidorna som du matar in.\")\n",
    "\n",
    "def volume():\n",
    "    succes = 0\n",
    "    areor.append([])\n",
    "    while succes==0:\n",
    "        \n",
    "        try:\n",
    "            sida1=int(input(\"Ange längden för sida 1\"))\n",
    "            sida2=int(input(\"Ange längden för sida 2\"))\n",
    "            höjd=int(input(\"Ange höjden för rätblocket (Måste vara ett naturligt tal mellan 1 och 10\"))\n",
    "            succes=1\n",
    "        except ValueError:\n",
    "            print(\"Du måste ange ett nummer!\")\n",
    "        \n",
    "\n",
    "    if höjd > 10:\n",
    "        höjd=10\n",
    "    elif höjd<1:\n",
    "        höjd=1\n",
    "    area=sida1*sida2\n",
    "    print(f\"Arean för basen är {sida1*sida2}ae. (Area enheter)\")\n",
    "    if sida1 == sida2:\n",
    "        print(\"Basen är en kvadrat\")\n",
    "    else:\n",
    "        print(\"Basen är inte en kvadrat\")\n",
    "    print(\"Höjden    | Volymen\")\n",
    "    for i in range(1,höjd+1):\n",
    "        print(f\"{i}le       | {area*i}ve\")\n",
    "    print()\n",
    "\n",
    "while again==\"y\":\n",
    "    volume()\n",
    "    again=str(input(\"Vill du ha ett till rätblock? (y/n)\"))\n"
   ]
  },
  {
   "cell_type": "code",
   "execution_count": 21,
   "metadata": {},
   "outputs": [
    {
     "output_type": "stream",
     "name": "stdout",
     "text": [
      "1\n1\n1\n"
     ]
    }
   ],
   "source": [
    "antal=(int(input(\"Hur många rätblock vill du räkna ut?\")))\n",
    "for i in range(0,antal):\n",
    "    "
   ]
  },
  {
   "cell_type": "code",
   "execution_count": 11,
   "metadata": {},
   "outputs": [
    {
     "output_type": "stream",
     "name": "stdout",
     "text": [
      "1\n"
     ]
    }
   ],
   "source": []
  },
  {
   "cell_type": "code",
   "execution_count": null,
   "metadata": {},
   "outputs": [],
   "source": []
  }
 ]
}