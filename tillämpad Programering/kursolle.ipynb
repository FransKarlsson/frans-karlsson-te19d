{
 "metadata": {
  "language_info": {
   "codemirror_mode": {
    "name": "ipython",
    "version": 3
   },
   "file_extension": ".py",
   "mimetype": "text/x-python",
   "name": "python",
   "nbconvert_exporter": "python",
   "pygments_lexer": "ipython3",
   "version": "3.8.3-final"
  },
  "orig_nbformat": 2,
  "kernelspec": {
   "name": "Python 3.8.3 64-bit ('base': conda)",
   "display_name": "Python 3.8.3 64-bit ('base': conda)",
   "metadata": {
    "interpreter": {
     "hash": "cb61122eaab12a3330e840c66215db14430d3a4090ed5b952942b322a4b0f391"
    }
   }
  }
 },
 "nbformat": 4,
 "nbformat_minor": 2,
 "cells": [
  {
   "cell_type": "code",
   "execution_count": 5,
   "metadata": {},
   "outputs": [
    {
     "output_type": "stream",
     "name": "stdout",
     "text": [
      "1 2 3 4 5 6 7 8 9 362880\n"
     ]
    }
   ],
   "source": [
    "#m04u01\n",
    "y=1\n",
    "for x in range(1,10):\n",
    "    print(x,end=\" \")\n",
    "    y=y*x\n",
    "print(y)\n"
   ]
  },
  {
   "cell_type": "code",
   "execution_count": 12,
   "metadata": {},
   "outputs": [
    {
     "output_type": "stream",
     "name": "stdout",
     "text": [
      "1.1\n41772.481694156566\n"
     ]
    }
   ],
   "source": [
    "#m04u02\n",
    "r=float(input(\"ange hur många procent den ärliga räntan är.\"))\n",
    "r=r/100+1\n",
    "\n",
    "p=10000\n",
    "print (r)\n",
    "for i in range(1,16):\n",
    "    p=p*r\n",
    "print(p)\n"
   ]
  },
  {
   "cell_type": "code",
   "execution_count": 23,
   "metadata": {},
   "outputs": [
    {
     "output_type": "stream",
     "name": "stdout",
     "text": [
      "Multiplikationstabell:\n",
      "\n",
      "1 2 3 4 5 6 7 8 9 10 \n",
      "2 4 6 8 10 12 14 16 18 20 \n",
      "3 6 9 12 15 18 21 24 27 30 \n",
      "4 8 12 16 20 24 28 32 36 40 \n",
      "5 10 15 20 25 30 35 40 45 50 \n",
      "6 12 18 24 30 36 42 48 54 60 \n",
      "7 14 21 28 35 42 49 56 63 70 \n",
      "8 16 24 32 40 48 56 64 72 80 \n",
      "9 18 27 36 45 54 63 72 81 90 \n",
      "10 20 30 40 50 60 70 80 90 100 \n",
      "\n",
      "\n",
      "-2:ans gångertabell:\n",
      "-2 -4 -6 -8 -10 -12 -14 -16 -18 -20 "
     ]
    }
   ],
   "source": [
    "#m01u03\n",
    "print(\"Multiplikationstabell:\")\n",
    "print()\n",
    "for x in range(1,11):\n",
    "    for y in range(1,11):\n",
    "        print (x*y,end=\" \")\n",
    "    print()\n",
    "print()\n",
    "print()\n",
    "tal=int(input(\"Ange ett heltal:\"))\n",
    "print(f\"{tal}:ans gångertabell:\")\n",
    "for x in range(1,11):\n",
    "    print(x*tal,end=\" \")\n"
   ]
  },
  {
   "cell_type": "code",
   "execution_count": 33,
   "metadata": {},
   "outputs": [
    {
     "output_type": "stream",
     "name": "stdout",
     "text": [
      "[1, 2, 3, 0]\nSumma:\n6\n\nHögsta och lägsta\n3 och 0\n"
     ]
    }
   ],
   "source": [
    "lista = []\n",
    "li=1\n",
    "while li != 0:\n",
    "    li=int(input(\"ange ett tal.\"))\n",
    "    lista.append(li)\n",
    "print(lista)\n",
    "\n",
    "print(\"Summa:\")\n",
    "print(sum(lista))\n",
    "print()\n",
    "print(\"Högsta och lägsta\")\n",
    "print(f\"{max(lista)} och {min(lista)}\")"
   ]
  },
  {
   "cell_type": "code",
   "execution_count": 40,
   "metadata": {},
   "outputs": [
    {
     "output_type": "stream",
     "name": "stdout",
     "text": [
      "[6, 1, 1, 3, 5, 3, 5, 1, 3, 4]\nAntal 1:or:\n3\n\nAntal 2:or:\n0\n\nAntal 3:or:\n3\n\nAntal 4:or:\n1\n\nAntal 5:or:\n2\n\nAntal 6:or:\n1\n\n"
     ]
    }
   ],
   "source": [
    "#m04u09\n",
    "import random as rnd \n",
    "tärning = []\n",
    "antalkast = int(input(\"Ange hur många gånger du vill slå tärningen.\"))\n",
    "for x in range(0,antalkast):\n",
    "    kast=rnd.randint(1,6)\n",
    "    tärning.append(kast)\n",
    "print (tärning)\n",
    "for y in range(1,7):\n",
    "    print(f\"Antal {y}:or:\")\n",
    "    print(tärning.count(y))\n",
    "    print()"
   ]
  },
  {
   "cell_type": "code",
   "execution_count": null,
   "metadata": {},
   "outputs": [],
   "source": []
  }
 ]
}