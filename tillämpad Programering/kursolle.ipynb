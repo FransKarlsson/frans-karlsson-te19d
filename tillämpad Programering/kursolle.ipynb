{
 "metadata": {
  "language_info": {
   "codemirror_mode": {
    "name": "ipython",
    "version": 3
   },
   "file_extension": ".py",
   "mimetype": "text/x-python",
   "name": "python",
   "nbconvert_exporter": "python",
   "pygments_lexer": "ipython3",
   "version": "3.8.3-final"
  },
  "orig_nbformat": 2,
  "kernelspec": {
   "name": "Python 3.8.3 64-bit (conda)",
   "display_name": "Python 3.8.3 64-bit (conda)",
   "metadata": {
    "interpreter": {
     "hash": "cb61122eaab12a3330e840c66215db14430d3a4090ed5b952942b322a4b0f391"
    }
   }
  }
 },
 "nbformat": 4,
 "nbformat_minor": 2,
 "cells": [
  {
   "cell_type": "code",
   "execution_count": 5,
   "metadata": {},
   "outputs": [
    {
     "output_type": "stream",
     "name": "stdout",
     "text": [
      "1 3 5 7 9 945\n"
     ]
    }
   ],
   "source": [
    "#m04u01\n",
    "y=1\n",
    "for x in range(1,10,2):\n",
    "    print(x,end=\" \")\n",
    "    y=y*x\n",
    "print(y)\n"
   ]
  },
  {
   "cell_type": "code",
   "execution_count": 12,
   "metadata": {},
   "outputs": [
    {
     "output_type": "stream",
     "name": "stdout",
     "text": [
      "1.1\n41772.481694156566\n"
     ]
    }
   ],
   "source": [
    "#m04u02\n",
    "r=float(input(\"ange hur många procent den årliga räntan är.\"))\n",
    "r=r/100+1\n",
    "\n",
    "p=10000\n",
    "print (r)\n",
    "for i in range(1,16):\n",
    "    p=p*r\n",
    "print(p)\n"
   ]
  },
  {
   "cell_type": "code",
   "execution_count": null,
   "metadata": {},
   "outputs": [],
   "source": [
    "#m04u03a\n",
    "belopp=(input(\"Hur högt är ditt sparbelopp från början\"))\n",
    "ränta=(input(\"Ange hur många procent räntan är\"))\n",
    "ränta=ränta/100+1\n",
    "print(ränta)"
   ]
  },
  {
   "cell_type": "code",
   "execution_count": 23,
   "metadata": {},
   "outputs": [
    {
     "output_type": "stream",
     "name": "stdout",
     "text": [
      "Multiplikationstabell:\n",
      "\n",
      "1 2 3 4 5 6 7 8 9 10 \n",
      "2 4 6 8 10 12 14 16 18 20 \n",
      "3 6 9 12 15 18 21 24 27 30 \n",
      "4 8 12 16 20 24 28 32 36 40 \n",
      "5 10 15 20 25 30 35 40 45 50 \n",
      "6 12 18 24 30 36 42 48 54 60 \n",
      "7 14 21 28 35 42 49 56 63 70 \n",
      "8 16 24 32 40 48 56 64 72 80 \n",
      "9 18 27 36 45 54 63 72 81 90 \n",
      "10 20 30 40 50 60 70 80 90 100 \n",
      "\n",
      "\n",
      "-2:ans gångertabell:\n",
      "-2 -4 -6 -8 -10 -12 -14 -16 -18 -20 "
     ]
    }
   ],
   "source": [
    "#m01u03\n",
    "print(\"Multiplikationstabell:\")\n",
    "print()\n",
    "for x in range(1,11):\n",
    "    for y in range(1,11):\n",
    "        print (x*y,end=\" \")\n",
    "    print()\n",
    "print()\n",
    "print()\n",
    "tal=int(input(\"Ange ett heltal:\"))\n",
    "print(f\"{tal}:ans gångertabell:\")\n",
    "for x in range(1,11):\n",
    "    print(x*tal,end=\" \")\n"
   ]
  },
  {
   "cell_type": "code",
   "execution_count": 16,
   "metadata": {},
   "outputs": [
    {
     "output_type": "stream",
     "name": "stdout",
     "text": [
      "Multiplikationstabell upp till 1X1:\n1 \nMultiplikationstabell upp till 2X2:\n1 2 \n2 4 \nMultiplikationstabell upp till 3X3:\n1 2 3 \n2 4 6 \n3 6 9 \n"
     ]
    }
   ],
   "source": [
    "#m04u03b\n",
    "n = int(input(\"Hur många tebeller vill du ha?\"))\n",
    "for t in range(1,n+1):\n",
    "    print(f\"Multiplikationstabell upp till {t}X{t}:\")\n",
    "    for q in range(1,t+1):\n",
    "        for r in range(1,t+1):\n",
    "            print(r*q,end=\" \")\n",
    "        print()"
   ]
  },
  {
   "cell_type": "code",
   "execution_count": 38,
   "metadata": {},
   "outputs": [
    {
     "output_type": "stream",
     "name": "stdout",
     "text": [
      "1 2 3 4 5 6 7 8 9 10 "
     ]
    }
   ],
   "source": [
    "#m04u04\n",
    "t=1\n",
    "while t <= 10:\n",
    "    print(t,end=\" \")\n",
    "    t+=1"
   ]
  },
  {
   "cell_type": "code",
   "execution_count": 41,
   "metadata": {},
   "outputs": [
    {
     "output_type": "stream",
     "name": "stdout",
     "text": [
      "14\n"
     ]
    }
   ],
   "source": [
    "#m04u05\n",
    "r,månader=100,0\n",
    "while r<1000000:\n",
    "    r=r*2\n",
    "    månader+=1\n",
    "print(månader)"
   ]
  },
  {
   "cell_type": "code",
   "execution_count": 5,
   "metadata": {},
   "outputs": [
    {
     "output_type": "stream",
     "name": "stdout",
     "text": [
      "1   2   3   5   6   7   8   9   10   Utanför loopen\n"
     ]
    }
   ],
   "source": [
    "#m04u06\n",
    "tal=int(input(\"Ange vilket tal loopen ska börja med.\"))\n",
    "slut=int(input(\"Ange vilket tal loopan ska sluta vid\"))\n",
    "nej=int(input(\"Ange ett tal som inte ska skrivas ut\"))\n",
    "while tal<slut:\n",
    "    tal+=1\n",
    "    if tal!=nej:\n",
    "        print(tal,end=\"   \")\n",
    "print(\"Utanför loopen\")\n",
    "\n",
    "    "
   ]
  },
  {
   "cell_type": "code",
   "execution_count": 14,
   "metadata": {},
   "outputs": [
    {
     "output_type": "stream",
     "name": "stdout",
     "text": [
      "1   3   4   5   6   7   8   9   10   \nUtanför loopen\n"
     ]
    }
   ],
   "source": [
    "#m04u07\n",
    "tal=int(input(\"Ange vilket tal loopen ska börja med.\"))\n",
    "slut=int(input(\"Ange vilket tal loopan ska sluta vid\"))\n",
    "nej=int(input(\"Ange ett tal som inte ska skrivas ut\"))\n",
    "if tal<slut and tal>=0 and slut>=0:\n",
    "    while tal<slut:\n",
    "        tal+=1\n",
    "        if tal!=nej:\n",
    "            print(tal,end=\"   \")\n",
    "    print()\n",
    "    print(\"Utanför loopen\")\n",
    "else:\n",
    "    print(\"Ett eller flera tal du har anget fungerar inte.\")\n",
    "\n"
   ]
  },
  {
   "cell_type": "code",
   "execution_count": 25,
   "metadata": {},
   "outputs": [
    {
     "output_type": "stream",
     "name": "stdout",
     "text": [
      "[0, 1, 2, 3, 4]\n10\n4\n0\n"
     ]
    }
   ],
   "source": [
    "total,max,min=0,0,100\n",
    "lista = []\n",
    "while\n",
    "for i in range(0,5):\n",
    "    lista.append(i)\n",
    "    total+=lista[i]\n",
    "    if max<i:\n",
    "        max=i\n",
    "    if min>i:\n",
    "        min=i\n",
    "\n",
    "print(lista)\n",
    "print(total)\n",
    "print(max)\n",
    "print(min)\n"
   ]
  },
  {
   "cell_type": "code",
   "execution_count": 40,
   "metadata": {},
   "outputs": [
    {
     "output_type": "stream",
     "name": "stdout",
     "text": [
      "[6, 1, 1, 3, 5, 3, 5, 1, 3, 4]\nAntal 1:or:\n3\n\nAntal 2:or:\n0\n\nAntal 3:or:\n3\n\nAntal 4:or:\n1\n\nAntal 5:or:\n2\n\nAntal 6:or:\n1\n\n"
     ]
    }
   ],
   "source": [
    "#m04u09\n",
    "import random as rnd \n",
    "tärning = []\n",
    "antalkast = int(input(\"Ange hur många gånger du vill slå tärningen.\"))\n",
    "for x in range(0,antalkast):\n",
    "    kast=rnd.randint(1,6)\n",
    "    tärning.append(kast)\n",
    "print (tärning)\n",
    "for y in range(1,7):\n",
    "    print(f\"Antal {y}:or:\")\n",
    "    print(tärning.count(y))\n",
    "    print()"
   ]
  },
  {
   "cell_type": "code",
   "execution_count": 7,
   "metadata": {},
   "outputs": [
    {
     "output_type": "stream",
     "name": "stdout",
     "text": [
      "-5\n"
     ]
    }
   ],
   "source": []
  },
  {
   "cell_type": "code",
   "execution_count": null,
   "metadata": {},
   "outputs": [],
   "source": []
  }
 ]
}