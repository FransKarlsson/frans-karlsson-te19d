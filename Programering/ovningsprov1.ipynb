{
 "metadata": {
  "language_info": {
   "codemirror_mode": {
    "name": "ipython",
    "version": 3
   },
   "file_extension": ".py",
   "mimetype": "text/x-python",
   "name": "python",
   "nbconvert_exporter": "python",
   "pygments_lexer": "ipython3",
   "version": "3.8.3-final"
  },
  "orig_nbformat": 2,
  "kernelspec": {
   "name": "python3",
   "display_name": "Python 3",
   "language": "python"
  }
 },
 "nbformat": 4,
 "nbformat_minor": 2,
 "cells": [
  {
   "cell_type": "code",
   "execution_count": null,
   "metadata": {},
   "outputs": [],
   "source": [
    "'''\n",
    "Först så kommer koden att sätta birds till 8000 och year till 0, sen kommer koden att höja years med 1 och halvera fåglar tills fåglar är mindre än 800, tillslut så kommer den att skriva ut hur många år det tog.\n",
    "'''"
   ]
  },
  {
   "cell_type": "code",
   "execution_count": null,
   "metadata": {},
   "outputs": [],
   "source": [
    "'''Först så importerar den matplotlib pyplot och kallar den för plt, sen så definierar den funktionen f med inputen x så att den ska ge tillbaka x**2-3*x+1.\n",
    "Sedan så gör den x till en lista med talen 0-9 och y till en lista med talen 0-9 som körs igenom funktionen f, sedan så sätter den in x och y i en graf där x axeln heter x och y axeln heter y och sedan visar grafen."
   ]
  },
  {
   "cell_type": "code",
   "execution_count": 9,
   "metadata": {},
   "outputs": [
    {
     "output_type": "stream",
     "name": "stdout",
     "text": [
      "3.0\n"
     ]
    }
   ],
   "source": [
    "def avr(x,y,z):\n",
    "    return (x+y+z)/3\n",
    "\n",
    "print(avr(1,3,5))\n"
   ]
  },
  {
   "cell_type": "code",
   "execution_count": 12,
   "metadata": {},
   "outputs": [
    {
     "output_type": "stream",
     "name": "stdout",
     "text": [
      "33.510321638291124\n"
     ]
    }
   ],
   "source": [
    "import math\n",
    "def volume(r):\n",
    "    return (4*r**3*math.pi)/3\n",
    "print(volume(int(input(\"Ange klotets radie\"))))"
   ]
  },
  {
   "cell_type": "code",
   "execution_count": 2,
   "metadata": {},
   "outputs": [
    {
     "output_type": "stream",
     "name": "stdout",
     "text": [
      "Hej jag heter frans inehåller 4 ord.\n"
     ]
    }
   ],
   "source": [
    "mening=input(\"Skriv in en mening\")\n",
    "words=mening.count(\" \")+1\n",
    "print(f\"{mening} inehåller {words} ord.\")\n"
   ]
  },
  {
   "cell_type": "code",
   "execution_count": 5,
   "metadata": {},
   "outputs": [
    {
     "output_type": "stream",
     "name": "stdout",
     "text": [
      "Fel svar, försök igen.\n",
      "y\n",
      "Grattis! du har nu 1 poäng! \n",
      "y\n",
      "Grattis! du har nu 2 poäng! \n",
      "n\n",
      "Runda färdig, du fick 2 rätt av 3.\n"
     ]
    }
   ],
   "source": [
    "'''\n",
    "Ge användaren två slumpmässiga tal mellan 1 och 10\n",
    "Låta användaren svara\n",
    "Kontrollera att svaret är rätt\n",
    "Pågå tils användaren avslutar programmet\n",
    "Visa hur många rätt respektive fel användaren fick\n",
    "'''\n",
    "\n",
    "import random as rnd \n",
    "poäng=0\n",
    "fel=0\n",
    "run=\"y\"\n",
    "\n",
    "\n",
    "while run==\"y\":\n",
    "    tal1=rnd.randint(1,10)\n",
    "    tal2=rnd.randint(1,10)\n",
    "    svar=int(input(f\"Vad är {tal1}*{tal2}\"))\n",
    "    if tal1*tal2 == svar:\n",
    "        poäng+=1\n",
    "        print(f\"Grattis! du har nu {poäng} poäng! \")\n",
    "    else:\n",
    "        print(\"Fel svar, försök igen.\")\n",
    "        fel+=1\n",
    "    run=str(input(\"Vill du köra igen? (y/n)\"))\n",
    "    print(run)\n",
    "    \n",
    "print(f\"Runda färdig, du fick {poäng} rätt av {poäng+fel}.\")\n"
   ]
  },
  {
   "cell_type": "code",
   "execution_count": 22,
   "metadata": {},
   "outputs": [
    {
     "output_type": "stream",
     "name": "stdout",
     "text": [
      "1740 femmor slogs.\n"
     ]
    }
   ],
   "source": [
    "import random as rnd\n",
    "fives=0\n",
    "for i in range(10000):\n",
    "    die=rnd.randint(1,6)\n",
    "    if die==5:\n",
    "        fives+=1\n",
    "print(f\"{fives} femmor slogs.\")"
   ]
  },
  {
   "cell_type": "code",
   "execution_count": 46,
   "metadata": {},
   "outputs": [
    {
     "output_type": "stream",
     "name": "stdout",
     "text": [
      "5 tusenlappar, 1 femhundralappar, 1 tvåhundralappar, 0 hundralappar, 0 femtiolappar, 0 tjugolappar, 1 tiokronor, 1 femkronor, 1 tvåkronor, 1 enkronor, "
     ]
    }
   ],
   "source": [
    "def växla(x):\n",
    "    \n",
    "    kontanter=[1000,500,200,100,50,20,10,5,2,1]\n",
    "    sedlar=[\"tusenlappar\",\"femhundralappar\",\"tvåhundralappar\",\"hundralappar\",\"femtiolappar\",\"tjugolappar\",\"tiokronor\",\"femkronor\",\"tvåkronor\",\"enkronor\"]\n",
    "    for i in range(len(kontanter)):\n",
    "        antal=x//kontanter[i]\n",
    "        x%=kontanter[i]\n",
    "        print(f\"{antal} {sedlar[i]}\",end=\", \")\n",
    "växla(5718)"
   ]
  },
  {
   "cell_type": "code",
   "execution_count": 41,
   "metadata": {},
   "outputs": [
    {
     "output_type": "stream",
     "name": "stdout",
     "text": [
      "e\n"
     ]
    }
   ],
   "source": [
    "\n"
   ]
  },
  {
   "cell_type": "code",
   "execution_count": null,
   "metadata": {},
   "outputs": [],
   "source": []
  }
 ]
}