{
 "metadata": {
  "language_info": {
   "codemirror_mode": {
    "name": "ipython",
    "version": 3
   },
   "file_extension": ".py",
   "mimetype": "text/x-python",
   "name": "python",
   "nbconvert_exporter": "python",
   "pygments_lexer": "ipython3",
   "version": "3.8.3-final"
  },
  "orig_nbformat": 2,
  "kernelspec": {
   "name": "python3",
   "display_name": "Python 3"
  }
 },
 "nbformat": 4,
 "nbformat_minor": 2,
 "cells": [
  {
   "source": [
    "#Uppgift 4 c:\n"
   ],
   "cell_type": "code",
   "metadata": {},
   "execution_count": null,
   "outputs": []
  },
  {
   "cell_type": "code",
   "execution_count": null,
   "metadata": {},
   "outputs": [],
   "source": [
    "p1x = float(input(\"Första pungtens x-värde\"))\n",
    "p1y = float(input(\"Första pungtens y-värde\"))\n",
    "p2x = float(input(\"Andra pungtens x-värde\"))\n",
    "p2y = float(input(\"Andra pungtens y-värde\"))\n",
    "dx = p1x-p2x\n",
    "dy = p1y-p2y\n",
    "h = dx**2+dy**2\n",
    "h = h**0.5\n",
    "print (f\"Avståndet är: {h}\")"
   ]
  },
  {
   "cell_type": "code",
   "execution_count": null,
   "metadata": {},
   "outputs": [],
   "source": [
    "# If sats 1:"
   ]
  },
  {
   "cell_type": "code",
   "execution_count": 3,
   "metadata": {
    "tags": []
   },
   "outputs": [
    {
     "output_type": "stream",
     "name": "stdout",
     "text": "Talet är negativt\n"
    }
   ],
   "source": [
    "num = int(input(\"Ange ett helatl\"))\n",
    "if num == 0:\n",
    "     print (\"Talet är noll.\")\n",
    "elif num > 0:\n",
    "    print (\"Talet är possetivt\")\n",
    "else:\n",
    "    print (\"Talet är negativt\")"
   ]
  },
  {
   "cell_type": "code",
   "execution_count": null,
   "metadata": {},
   "outputs": [],
   "source": [
    "# 2"
   ]
  },
  {
   "cell_type": "code",
   "execution_count": null,
   "metadata": {},
   "outputs": [],
   "source": [
    "num = int(input(\"Ange ett heltal\"))\n",
    "if num %5==0:\n",
    "    print (\"Talet är delbart med fem\")\n",
    "elif num%2==0:\n",
    "    print (\"Talet är jämt\")\n",
    "else:\n",
    "    print (\"talet är udda\")"
   ]
  },
  {
   "cell_type": "code",
   "execution_count": null,
   "metadata": {},
   "outputs": [],
   "source": [
    "# 3 (Med 4 tal)"
   ]
  },
  {
   "cell_type": "code",
   "execution_count": null,
   "metadata": {},
   "outputs": [],
   "source": [
    "tal1 = float(input(\"ange värdet för tal 1\"))\n",
    "tal2 = float(input(\"Ange värdet för tal 2\"))\n",
    "tal3 = float(input(\"Ange värdet för tal 3\"))\n",
    "tal4 = float(input(\"Ange värdet för tal 4\"))\n",
    "if tal1>tal2 and tal3 and tal4:\n",
    "    print (\"Tal 1 är störst\")\n",
    "elif tal2>tal3 and tal4:\n",
    "    print (\"Tal 2 är störst\")\n",
    "elif tal3>tal4:\n",
    "    print (\"Tal 3 är störst\")\n",
    "else:\n",
    "    print (\"Tal 4 är störst\")"
   ]
  },
  {
   "cell_type": "code",
   "execution_count": null,
   "metadata": {},
   "outputs": [],
   "source": [
    "# 4"
   ]
  },
  {
   "cell_type": "code",
   "execution_count": null,
   "metadata": {},
   "outputs": [],
   "source": [
    "v = float(input(\"Ange en vinkel\"))\n",
    "if v>360 or v<0:\n",
    "    print (\"Vänligen ange en möjlig vinkel\")\n",
    "elif v<90:\n",
    "    print(\"Vinkeln är spetsig\")\n",
    "elif v==90:\n",
    "    print(\"Vinkeln är rät\")\n",
    "elif v>90 and v<180:\n",
    "    print (\"Vinkeln är trubbig\")\n",
    "elif v==180:\n",
    "    print (\"Vinkeln är rak\")\n",
    "elif v==360:\n",
    "    print (\"Vinkeln är hel\")\n",
    "else:\n",
    "    print (\"Vinkeln är konvex\")"
   ]
  }
 ]
}