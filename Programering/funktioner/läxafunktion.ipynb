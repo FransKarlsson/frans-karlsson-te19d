{
 "metadata": {
  "language_info": {
   "codemirror_mode": {
    "name": "ipython",
    "version": 3
   },
   "file_extension": ".py",
   "mimetype": "text/x-python",
   "name": "python",
   "nbconvert_exporter": "python",
   "pygments_lexer": "ipython3",
   "version": "3.8.3-final"
  },
  "orig_nbformat": 2,
  "kernelspec": {
   "name": "python3",
   "display_name": "Python 3"
  }
 },
 "nbformat": 4,
 "nbformat_minor": 2,
 "cells": [
  {
   "cell_type": "code",
   "execution_count": 2,
   "metadata": {},
   "outputs": [
    {
     "output_type": "stream",
     "name": "stdout",
     "text": [
      "4.0\n"
     ]
    }
   ],
   "source": [
    "#upg 1 a\n",
    "def arkimetisk_summa(n,a1,an):\n",
    "    return ((a1+an)*n)/2\n",
    "\n",
    "print(arkimetisk_summa(2,2,2))"
   ]
  },
  {
   "cell_type": "code",
   "execution_count": 1,
   "metadata": {},
   "outputs": [
    {
     "output_type": "stream",
     "name": "stdout",
     "text": [
      "5050.0\n"
     ]
    }
   ],
   "source": [
    "#upg 1 b\n",
    "def arkimetisk_summa(n,a1,an):\n",
    "    return ((a1+an)*n)/2\n",
    "\n",
    "print(arkimetisk_summa(100,1,100))"
   ]
  },
  {
   "cell_type": "code",
   "execution_count": 2,
   "metadata": {},
   "outputs": [
    {
     "output_type": "stream",
     "name": "stdout",
     "text": [
      "s=5050.0\n"
     ]
    }
   ],
   "source": [
    "#upg 1 c\n",
    "def arkimetisk_summa():\n",
    "    n=int(input(\"ange summan för n:\"))\n",
    "    a1=int(input(\"Ange vilket numer du vill börja med.\"))\n",
    "    an=a1*n\n",
    "    return ((a1+an)*n)/2\n",
    "\n",
    "print(f\"s={arkimetisk_summa()}\")"
   ]
  },
  {
   "cell_type": "code",
   "execution_count": 7,
   "metadata": {},
   "outputs": [
    {
     "output_type": "stream",
     "name": "stdout",
     "text": [
      "1\n3\n5\n7\n9\n11\n13\n15\n17\n19\ns=100\n"
     ]
    }
   ],
   "source": [
    "#upg 2 a\n",
    "def arkimetisk_summa():\n",
    "    n=int(input(\"ange summan för n:\"))\n",
    "    a1=0\n",
    "    s=0\n",
    "    for i in range(0,n):\n",
    "        print(2*i+1)\n",
    "        s+= 2*i+1\n",
    "    return s\n",
    "\n",
    "print(f\"s={arkimetisk_summa()}\")"
   ]
  },
  {
   "cell_type": "code",
   "execution_count": 8,
   "metadata": {},
   "outputs": [
    {
     "output_type": "stream",
     "name": "stdout",
     "text": [
      "1\n3\n5\n7\n9\n11\n13\n15\n17\n19\ns=100\n"
     ]
    }
   ],
   "source": [
    "#upg 2 b\n",
    "def arkimetisk_summa():\n",
    "    n=int(input(\"ange summan för n:\"))\n",
    "    a1=int(input(\"ange ett starttal\"))\n",
    "    a1=a1-1/2\n",
    "    s=0\n",
    "    for i in range(0,n):\n",
    "        print(2*i+1)\n",
    "        s+= 2*i+1\n",
    "    return s\n",
    "\n",
    "print(f\"s={arkimetisk_summa()}\")"
   ]
  },
  {
   "cell_type": "code",
   "execution_count": 5,
   "metadata": {},
   "outputs": [
    {
     "output_type": "stream",
     "name": "stdout",
     "text": [
      "5.39\n"
     ]
    }
   ],
   "source": [
    "#upg 3 a\n",
    "import math\n",
    "def distance(x1,y1,x2,y2):\n",
    "    difx=x1-x2\n",
    "    dify=y1-y2\n",
    "    return round(math.sqrt(difx**2+dify**2),2)\n",
    "\n",
    "print(distance(3,3,-2,1))"
   ]
  },
  {
   "cell_type": "code",
   "execution_count": 20,
   "metadata": {},
   "outputs": [
    {
     "output_type": "stream",
     "name": "stdout",
     "text": [
      "1.41\n"
     ]
    }
   ],
   "source": [
    "import math\n",
    "def distance():\n",
    "    p1=input(\"ange koordinaterna för pungt 1 (x,y)\")\n",
    "    p1=p1.split(\",\")\n",
    "    p2=input(\"ange koordinaterna för pungt 2 (x,y)\")\n",
    "    p2=p2.split(\",\")\n",
    "    difx=int(p1[0])-int(p2[0])\n",
    "    dify=int(p1[1])-int(p2[1])\n",
    "    return round(math.sqrt(difx**2+dify**2),2)\n",
    "\n",
    "print(distance())\n"
   ]
  },
  {
   "cell_type": "code",
   "execution_count": 19,
   "metadata": {},
   "outputs": [
    {
     "output_type": "stream",
     "name": "stdout",
     "text": [
      "['1', '1', '1', '1']\n"
     ]
    }
   ],
   "source": []
  },
  {
   "cell_type": "code",
   "execution_count": null,
   "metadata": {},
   "outputs": [],
   "source": []
  }
 ]
}