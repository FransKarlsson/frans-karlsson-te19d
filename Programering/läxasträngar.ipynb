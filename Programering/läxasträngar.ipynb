{
 "metadata": {
  "language_info": {
   "codemirror_mode": {
    "name": "ipython",
    "version": 3
   },
   "file_extension": ".py",
   "mimetype": "text/x-python",
   "name": "python",
   "nbconvert_exporter": "python",
   "pygments_lexer": "ipython3",
   "version": "3.8.3-final"
  },
  "orig_nbformat": 2,
  "kernelspec": {
   "name": "python3",
   "display_name": "Python 3"
  }
 },
 "nbformat": 4,
 "nbformat_minor": 2,
 "cells": [
  {
   "cell_type": "code",
   "execution_count": 2,
   "metadata": {},
   "outputs": [
    {
     "output_type": "stream",
     "name": "stdout",
     "text": [
      "Frans inehåller 5 bokstäver.\n"
     ]
    }
   ],
   "source": [
    "#Upg 1\n",
    "namn=str(input(\"Skriv in ditt namn.\"))\n",
    "print(f\"{namn} inehåller {len(namn)} bokstäver.\")"
   ]
  },
  {
   "cell_type": "code",
   "execution_count": 4,
   "metadata": {},
   "outputs": [
    {
     "output_type": "stream",
     "name": "stdout",
     "text": [
      "15\n"
     ]
    }
   ],
   "source": [
    "#Upg 2\n",
    "txt=\"En bild säger mer än tusen ord, en matematisk formel säger mer än tusen bilder\"\n",
    "print(txt.count(\" \")+1)"
   ]
  },
  {
   "cell_type": "code",
   "execution_count": 10,
   "metadata": {},
   "outputs": [
    {
     "output_type": "stream",
     "name": "stdout",
     "text": [
      "detta är en palindrom\n"
     ]
    }
   ],
   "source": [
    "#upg 3a\n",
    "ord=input(\"Skriv in ett ord\")\n",
    "if ord==ord[::-1]:\n",
    "    print(\"detta är en palindrom\")\n",
    "else:\n",
    "    print(\"Detta är inte en palindrom\")\n",
    "    "
   ]
  },
  {
   "cell_type": "code",
   "execution_count": 17,
   "metadata": {},
   "outputs": [
    {
     "output_type": "stream",
     "name": "stdout",
     "text": [
      "detta är en palindrom\n"
     ]
    }
   ],
   "source": [
    "#upg 3b\n",
    "ord=input(\"Skriv in ett ord\")\n",
    "ord=ord.lower()\n",
    "ord=ord.replace(\" \",\"\")\n",
    "ord=ord.replace(\",\",\"\")\n",
    "if ord==ord[::-1]:\n",
    "    print(\"detta är en palindrom\")\n",
    "else:\n",
    "    print(\"Detta är inte en palindrom\")"
   ]
  },
  {
   "cell_type": "code",
   "execution_count": 12,
   "metadata": {},
   "outputs": [
    {
     "output_type": "stream",
     "name": "stdout",
     "text": [
      "Detta är inte en palindrom\n"
     ]
    }
   ],
   "source": []
  },
  {
   "cell_type": "code",
   "execution_count": null,
   "metadata": {},
   "outputs": [],
   "source": []
  }
 ]
}