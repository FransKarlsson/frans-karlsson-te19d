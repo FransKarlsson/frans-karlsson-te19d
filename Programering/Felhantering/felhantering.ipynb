{
 "metadata": {
  "language_info": {
   "codemirror_mode": {
    "name": "ipython",
    "version": 3
   },
   "file_extension": ".py",
   "mimetype": "text/x-python",
   "name": "python",
   "nbconvert_exporter": "python",
   "pygments_lexer": "ipython3",
   "version": "3.8.3-final"
  },
  "orig_nbformat": 2,
  "kernelspec": {
   "name": "python3",
   "display_name": "Python 3",
   "language": "python"
  }
 },
 "nbformat": 4,
 "nbformat_minor": 2,
 "cells": [
  {
   "cell_type": "code",
   "execution_count": 3,
   "metadata": {},
   "outputs": [
    {
     "output_type": "stream",
     "name": "stdout",
     "text": [
      "0.7071067811865476\n"
     ]
    }
   ],
   "source": [
    "import numpy as np    # Import var felstavat.\n",
    "def distance(x,y):\n",
    "    return np.sqrt(x**2+y**2)  # x och y behöver bli upphöjda med 2 för att ge rätt svar.\n",
    "\n",
    "print(distance(0.5,0.5))"
   ]
  },
  {
   "cell_type": "code",
   "execution_count": 24,
   "metadata": {},
   "outputs": [
    {
     "output_type": "stream",
     "name": "stdout",
     "text": [
      "100 är inte fyrsiffrigt\n231 är inte fyrsiffrigt\n10000 är fyrsifftigt.\n10001 är fyrsifftigt.\n-1000 är fyrsifftigt.\n102313 är fyrsifftigt.\n1000 är fyrsifftigt.\n"
     ]
    }
   ],
   "source": [
    "def ar_fyrsiffrigt(tal):\n",
    "    if tal >= 1000 or tal <= -1000: \n",
    "        return True\n",
    "    else:\n",
    "        return False\n",
    "\n",
    "# testprogram\n",
    "testtal = [100,231,10000,10001,-1000,102313,1000]\n",
    "\n",
    "for t in testtal:\n",
    "    if ar_fyrsiffrigt(t):\n",
    "        print(f\"{t} är fyrsifftigt.\")\n",
    "    else:\n",
    "        print(f\"{t} är inte fyrsiffrigt\")"
   ]
  },
  {
   "cell_type": "code",
   "execution_count": 31,
   "metadata": {},
   "outputs": [
    {
     "output_type": "error",
     "ename": "SyntaxError",
     "evalue": "invalid syntax (<ipython-input-31-8896428f9959>, line 11)",
     "traceback": [
      "\u001b[1;36m  File \u001b[1;32m\"<ipython-input-31-8896428f9959>\"\u001b[1;36m, line \u001b[1;32m11\u001b[0m\n\u001b[1;33m    except AssertionError:\u001b[0m\n\u001b[1;37m    ^\u001b[0m\n\u001b[1;31mSyntaxError\u001b[0m\u001b[1;31m:\u001b[0m invalid syntax\n"
     ]
    }
   ],
   "source": [
    "engångskostnad = 30\n",
    "månadskostnad = 700 \n",
    "\n",
    "while True:\n",
    "    try:\n",
    "        resor=(int(input(\"Hur många gånger åker du spårvagn per månad?\")))\n",
    "    except ValueError:\n",
    "        print(\"Du måste ange ett nummer!\")\n",
    "    assert resor < 0\n",
    "\n",
    "    except AssertionError:\n",
    "        print(\"Du kan inte åka ett negativt antal gånger per månad!\")\n",
    "    else:\n",
    "        break \n",
    "        \n"
   ]
  },
  {
   "cell_type": "code",
   "execution_count": null,
   "metadata": {},
   "outputs": [],
   "source": []
  }
 ]
}