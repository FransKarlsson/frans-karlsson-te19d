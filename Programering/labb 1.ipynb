{
 "metadata": {
  "language_info": {
   "codemirror_mode": {
    "name": "ipython",
    "version": 3
   },
   "file_extension": ".py",
   "mimetype": "text/x-python",
   "name": "python",
   "nbconvert_exporter": "python",
   "pygments_lexer": "ipython3",
   "version": "3.8.3-final"
  },
  "orig_nbformat": 2,
  "kernelspec": {
   "name": "Python 3.8.3 64-bit ('base': conda)",
   "display_name": "Python 3.8.3 64-bit ('base': conda)",
   "metadata": {
    "interpreter": {
     "hash": "cb61122eaab12a3330e840c66215db14430d3a4090ed5b952942b322a4b0f391"
    }
   }
  }
 },
 "nbformat": 4,
 "nbformat_minor": 2,
 "cells": [
  {
   "cell_type": "code",
   "execution_count": 9,
   "metadata": {},
   "outputs": [
    {
     "output_type": "stream",
     "name": "stdout",
     "text": [
      "Avståndet är ugefär 0.70711\n"
     ]
    }
   ],
   "source": [
    "# (a)\n",
    "x,y=0.5,0.5\n",
    "h=x**2+y**2\n",
    "h=h**0.5\n",
    "print (f\"Avståndet är ugefär {round(h,5)}\")"
   ]
  },
  {
   "cell_type": "code",
   "execution_count": 10,
   "metadata": {},
   "outputs": [
    {
     "output_type": "stream",
     "name": "stdout",
     "text": [
      "Avståndet är ugefär 1.41421\n"
     ]
    }
   ],
   "source": [
    "# (b)\n",
    "x,y=1,1\n",
    "h=x**2+y**2\n",
    "h=h**0.5\n",
    "print (f\"Avståndet är ugefär {round(h,5)}\")"
   ]
  },
  {
   "cell_type": "code",
   "execution_count": 11,
   "metadata": {},
   "outputs": [
    {
     "output_type": "stream",
     "name": "stdout",
     "text": [
      "Avståndet är ugefär 0.70711\n"
     ]
    }
   ],
   "source": [
    "x,y=0.5,-0.5\n",
    "h=x**2+y**2\n",
    "h=h**0.5\n",
    "print (f\"Avståndet är ugefär {round(h,5)}\")"
   ]
  },
  {
   "cell_type": "code",
   "execution_count": 49,
   "metadata": {},
   "outputs": [
    {
     "output_type": "stream",
     "name": "stdout",
     "text": [
      "[1, 2, 3, 4, 5, 6, 7, 8, 9, 10]\n"
     ]
    }
   ],
   "source": [
    "# (d)\n",
    "import random as rnd\n",
    "antalp = 1\n",
    "pungter = [1]\n",
    "for i in range(0,9):\n",
    "    pungter.append(antalp + 1)\n",
    "    antalp += 1\n",
    "pungter[1]\n",
    "\n"
   ]
  },
  {
   "cell_type": "code",
   "execution_count": 25,
   "metadata": {},
   "outputs": [
    {
     "output_type": "stream",
     "name": "stdout",
     "text": [
      "-0.7202218153165048\n"
     ]
    }
   ],
   "source": [
    "import random\n",
    "print (random.uniform(1,-1))"
   ]
  },
  {
   "cell_type": "code",
   "execution_count": 38,
   "metadata": {},
   "outputs": [
    {
     "output_type": "stream",
     "name": "stdout",
     "text": [
      "0.0\n"
     ]
    }
   ],
   "source": [
    "thislist "
   ]
  },
  {
   "cell_type": "code",
   "execution_count": null,
   "metadata": {},
   "outputs": [],
   "source": []
  }
 ]
}