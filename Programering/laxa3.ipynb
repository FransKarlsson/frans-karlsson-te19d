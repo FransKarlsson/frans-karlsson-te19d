{
 "metadata": {
  "language_info": {
   "codemirror_mode": {
    "name": "ipython",
    "version": 3
   },
   "file_extension": ".py",
   "mimetype": "text/x-python",
   "name": "python",
   "nbconvert_exporter": "python",
   "pygments_lexer": "ipython3",
   "version": "3.8.3-final"
  },
  "orig_nbformat": 2,
  "kernelspec": {
   "name": "Python 3.8.3 64-bit ('base': conda)",
   "display_name": "Python 3.8.3 64-bit ('base': conda)",
   "metadata": {
    "interpreter": {
     "hash": "cb61122eaab12a3330e840c66215db14430d3a4090ed5b952942b322a4b0f391"
    }
   }
  }
 },
 "nbformat": 4,
 "nbformat_minor": 2,
 "cells": [
  {
   "cell_type": "code",
   "execution_count": null,
   "metadata": {},
   "outputs": [],
   "source": [
    "# 1. Skriv ett program med hjälp av for-sats som:\n",
    "\n"
   ]
  },
  {
   "cell_type": "code",
   "execution_count": 4,
   "metadata": {
    "tags": []
   },
   "outputs": [
    {
     "output_type": "stream",
     "name": "stdout",
     "text": "1 2 3 4 5 6 7 8 9 10"
    }
   ],
   "source": [
    "# A\n",
    "for i in range(1,11):\n",
    "    print (i,end=\" \")"
   ]
  },
  {
   "cell_type": "code",
   "execution_count": 9,
   "metadata": {
    "tags": []
   },
   "outputs": [
    {
     "output_type": "stream",
     "name": "stdout",
     "text": "-10 -9 -8 -7 -6 -5 -4 -3 -2 -1"
    }
   ],
   "source": [
    "# B\n",
    "for i in range(0,10):\n",
    "    print(i-10,end=\" \")\n"
   ]
  },
  {
   "cell_type": "code",
   "execution_count": 14,
   "metadata": {
    "tags": []
   },
   "outputs": [
    {
     "output_type": "stream",
     "name": "stdout",
     "text": "10 9 8 7 6 5 4 3 2 1 0"
    }
   ],
   "source": [
    "# C\n",
    "for i in range(1,12):\n",
    "    print(11-i,end=\" \")"
   ]
  },
  {
   "cell_type": "code",
   "execution_count": 19,
   "metadata": {
    "tags": []
   },
   "outputs": [
    {
     "output_type": "stream",
     "name": "stdout",
     "text": "1 7 11 13 17 19 23 29 31 37 41 43 47 49 53 59 61 67 71 73 77 79 83 89 91 97 101 103 107 109 113 119 121 127 131 133 137 139 143 149 151 157 161 163 167 169 173 179 181 187 191 193 197 199 203 209 211 217 221 223 227 229 233 239 241 247 251 253 257 259 263 269 271 277 281 283 287 289 293 299 301 307 311 313 317 319 323 329 331 337 341 343 347 349 353 359 361 367 371 373 377 379 383 389 391 397 401 403 407 409 413 419 421 427 431 433 437 439 443 449 451 457 461 463 467 469 473 479 481 487 491 493 497 499 503 509 511 517 521 523 527 529 533 539 541 547 551 553 557 559 563 569 571 577 581 583 587 589 593 599 601 607 611 613 617 619 623 629 631 637 641 643 647 649 653 659 661 667 671 673 677 679 683 689 691 697 701 703 707 709 713 719 721 727 731 733 737 739 743 749 751 757 761 763 767 769 773 779 781 787 791 793 797 799 803 809 811 817 821 823 827 829 833 839 841 847 851 853 857 859 863 869 871 877 881 883 887 889 893 899 901 907 911 913 917 919 923 929 931 937 941 943 947 949 953 959 961 967 971 973 977 979 983 989 991 997"
    }
   ],
   "source": [
    "# 2. Sriv ett program som skriver ut alla primtal från 1 till 100 med hjälp av for-sats.\n",
    "for i in range(1,1000):\n",
    "    if i%2!=0 and i%3!=0 and i%5!=0:\n",
    "        print (i, end=\" \")\n",
    "\n"
   ]
  },
  {
   "cell_type": "code",
   "execution_count": 22,
   "metadata": {
    "tags": []
   },
   "outputs": [
    {
     "output_type": "stream",
     "name": "stdout",
     "text": "5049\n"
    }
   ],
   "source": [
    "# Skriv ett program som beräknar s=1+2+3...+99+100\n",
    "for i in range(1,100):\n",
    "    s = s+i\n",
    "print(s)"
   ]
  },
  {
   "cell_type": "code",
   "execution_count": 3,
   "metadata": {
    "tags": []
   },
   "outputs": [
    {
     "output_type": "stream",
     "name": "stdout",
     "text": "2500 "
    }
   ],
   "source": [
    "# s= 1+3+5...+99\n",
    "s=0\n",
    "for i in range(1,100,2):\n",
    "    s = s+i\n",
    "print (s,end=\" \")\n"
   ]
  },
  {
   "cell_type": "code",
   "execution_count": 6,
   "metadata": {
    "tags": []
   },
   "outputs": [
    {
     "output_type": "stream",
     "name": "stdout",
     "text": "0 5 10 15 20 25 30 35 40 45 50 "
    }
   ],
   "source": [
    "#5 a, Skriver ut femmans multiplikations tabell 0 till 10\n",
    "for i in range(0,11):\n",
    "    print(i*5,end=\" \")"
   ]
  },
  {
   "cell_type": "code",
   "execution_count": 2,
   "metadata": {
    "tags": []
   },
   "outputs": [
    {
     "output_type": "stream",
     "name": "stdout",
     "text": "12 "
    }
   ],
   "source": [
    "#5 b låter användaret mata in start och slut för tabellen\n",
    "tabell = int(input(\"Ange vilken gångertabell som ska räknas ut\"))\n",
    "start = int(input(\"Ange det första talet i tabellen\"))\n",
    "slut = int(input(\"Ange slutet i tabellen\"))\n",
    "for i in range(start,slut+1):\n",
    "    print(i*tabell,end=\" \")"
   ]
  },
  {
   "cell_type": "code",
   "execution_count": 4,
   "metadata": {
    "tags": []
   },
   "outputs": [
    {
     "output_type": "stream",
     "name": "stdout",
     "text": "0:ans gångertabell:\n0 0 0 0 0 0 0 0 0 0 0 \n1:ans gångertabell:\n0 1 2 3 4 5 6 7 8 9 10 \n2:ans gångertabell:\n0 2 4 6 8 10 12 14 16 18 20 \n3:ans gångertabell:\n0 3 6 9 12 15 18 21 24 27 30 \n4:ans gångertabell:\n0 4 8 12 16 20 24 28 32 36 40 \n5:ans gångertabell:\n0 5 10 15 20 25 30 35 40 45 50 \n6:ans gångertabell:\n0 6 12 18 24 30 36 42 48 54 60 \n7:ans gångertabell:\n0 7 14 21 28 35 42 49 56 63 70 \n8:ans gångertabell:\n0 8 16 24 32 40 48 56 64 72 80 \n9:ans gångertabell:\n0 9 18 27 36 45 54 63 72 81 90 \n10:ans gångertabell:\n0 10 20 30 40 50 60 70 80 90 100 \n"
    }
   ],
   "source": [
    "#5 c\n",
    "i=0\n",
    "j=0\n",
    "for i in range(0,11):\n",
    "    print(f\"{i}:ans gångertabell:\")\n",
    "    for j in range(0,11):\n",
    "        print(j*i,end=\" \")\n",
    "    print()\n",
    "    \n"
   ]
  },
  {
   "cell_type": "code",
   "execution_count": 1,
   "metadata": {
    "tags": []
   },
   "outputs": [
    {
     "output_type": "stream",
     "name": "stdout",
     "text": "1.96875\n"
    }
   ],
   "source": [
    "# 6. s=1+ 1/2 + 1/4 + 1/8?...+1/2**n\n",
    "s=0\n",
    "n = int(input(\"Ange värdet för n.\"))\n",
    "for i in range(0,n+1):\n",
    "    s=s+1/2**i\n",
    "print(s)"
   ]
  },
  {
   "cell_type": "code",
   "execution_count": 33,
   "metadata": {
    "tags": []
   },
   "outputs": [
    {
     "output_type": "stream",
     "name": "stdout",
     "text": "5.0\n"
    }
   ],
   "source": []
  },
  {
   "cell_type": "code",
   "execution_count": null,
   "metadata": {},
   "outputs": [],
   "source": []
  }
 ]
}