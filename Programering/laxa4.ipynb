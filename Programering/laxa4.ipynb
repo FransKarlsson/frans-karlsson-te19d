{
 "metadata": {
  "language_info": {
   "codemirror_mode": {
    "name": "ipython",
    "version": 3
   },
   "file_extension": ".py",
   "mimetype": "text/x-python",
   "name": "python",
   "nbconvert_exporter": "python",
   "pygments_lexer": "ipython3",
   "version": "3.8.3-final"
  },
  "orig_nbformat": 2,
  "kernelspec": {
   "name": "Python 3.8.3 64-bit ('base': conda)",
   "display_name": "Python 3.8.3 64-bit ('base': conda)",
   "metadata": {
    "interpreter": {
     "hash": "cb61122eaab12a3330e840c66215db14430d3a4090ed5b952942b322a4b0f391"
    }
   }
  }
 },
 "nbformat": 4,
 "nbformat_minor": 2,
 "cells": [
  {
   "cell_type": "code",
   "execution_count": 3,
   "metadata": {
    "tags": []
   },
   "outputs": [
    {
     "output_type": "stream",
     "name": "stdout",
     "text": "5050\n"
    }
   ],
   "source": [
    "# upg 1\n",
    "s,n=0,0 \n",
    "while n<100:\n",
    "    n+=1\n",
    "    s+=n \n",
    "\n",
    "print (s)\n"
   ]
  },
  {
   "cell_type": "code",
   "execution_count": 4,
   "metadata": {
    "tags": []
   },
   "outputs": [
    {
     "output_type": "stream",
     "name": "stdout",
     "text": "1 3 5 7 9 11 13 15 17 19 21 23 25 27 29 31 33 35 37 39 41 43 45 47 49 51 53 55 57 59 61 63 65 67 69 71 73 75 77 79 81 83 85 87 89 91 93 95 97 99 2500\n"
    }
   ],
   "source": [
    "# upg 2\n",
    "s,n=0,1\n",
    "while n<100:\n",
    "    s+=n\n",
    "    n+=2\n",
    "print (s)"
   ]
  },
  {
   "cell_type": "code",
   "execution_count": 13,
   "metadata": {
    "tags": []
   },
   "outputs": [
    {
     "output_type": "stream",
     "name": "stdout",
     "text": "1.9990234375\n"
    }
   ],
   "source": [
    "# upg 3\n",
    "end=int(input(\"Ange hur lång uträkningen skall bli.\"))\n",
    "end=2**end\n",
    "n,s=1,0\n",
    "while n<=end:\n",
    "    s+=1/n\n",
    "    n=n*2\n",
    "print (s)\n",
    "\n",
    "\n",
    "\n",
    "\n"
   ]
  },
  {
   "cell_type": "code",
   "execution_count": 39,
   "metadata": {
    "tags": []
   },
   "outputs": [
    {
     "output_type": "stream",
     "name": "stdout",
     "text": "f(-2)=4.0 f(-1.9)=10 f(-1.8)=9.31 f(-1.7)=8.64 f(-1.6)=7.99 f(-1.5)=7.36 f(-1.4)=6.75 f(-1.3)=6.16 f(-1.2)=5.59 f(-1.1)=5.04 f(-1.0)=4.51 f(-0.9)=4.0 f(-0.8)=3.51 f(-0.7)=3.04 f(-0.6)=2.59 f(-0.5)=2.16 f(-0.4)=1.75 f(-0.3)=1.36 f(-0.2)=0.99 f(-0.1)=0.64 f(0.0)=0.31 f(0.1)=0.0 f(0.2)=-0.29 f(0.3)=-0.56 f(0.4)=-0.81 f(0.5)=-1.04 f(0.6)=-1.25 f(0.7)=-1.44 f(0.8)=-1.61 f(0.9)=-1.76 f(1.0)=-1.89 f(1.1)=-2.0 f(1.2)=-2.09 f(1.3)=-2.16 f(1.4)=-2.21 f(1.5)=-2.24 f(1.6)=-2.25 f(1.7)=-2.24 f(1.8)=-2.21 f(1.9)=-2.16 f(2.0)=-2.09 "
    }
   ],
   "source": [
    "# upg 4\n",
    "x = -2\n",
    "while x <= 2:\n",
    "    print(f\"f({round(x,2)})={round(y,2)}\",end=\" \")\n",
    "    x=round(x,2)\n",
    "    y = x**2-3*x\n",
    "    x += 0.1\n",
    "    "
   ]
  },
  {
   "cell_type": "code",
   "execution_count": 40,
   "metadata": {
    "tags": []
   },
   "outputs": [
    {
     "output_type": "stream",
     "name": "stdout",
     "text": "41\n"
    }
   ],
   "source": [
    "# upg 5\n",
    "spelöver = False\n",
    "import random\n",
    "rättsvar = random.randint(1,100)\n",
    "\n",
    "\n",
    "while spelöver == False:\n",
    "    gissning = int(input(\"Gissa ett tal mellan 1 och 100)\n",
    "    if gissning == rättsvar:\n",
    "        spelöver = True\n",
    "    else:\n",
    "        if gissning <= rättsvar:\n",
    "            print (\"Ditt svar är för lågt, försök igen\")\n",
    "            \n"
   ]
  },
  {
   "cell_type": "code",
   "execution_count": 17,
   "metadata": {
    "tags": []
   },
   "outputs": [
    {
     "output_type": "stream",
     "name": "stdout",
     "text": "Det krävs 5 timmar,\n"
    }
   ],
   "source": [
    "# mjölk\n",
    "bakterier = 1500000\n",
    "timmar = 0\n",
    "while bakterier <= 10000000:\n",
    "    timmar += 1\n",
    "    bakterier += bakterier/2\n",
    "print (f\"Det krävs {timmar} timmar,\")\n",
    "    \n",
    "\n"
   ]
  },
  {
   "cell_type": "code",
   "execution_count": null,
   "metadata": {},
   "outputs": [],
   "source": []
  }
 ]
}