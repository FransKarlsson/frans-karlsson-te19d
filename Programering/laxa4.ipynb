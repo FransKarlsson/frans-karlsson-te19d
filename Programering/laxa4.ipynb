{
 "metadata": {
  "language_info": {
   "codemirror_mode": {
    "name": "ipython",
    "version": 3
   },
   "file_extension": ".py",
   "mimetype": "text/x-python",
   "name": "python",
   "nbconvert_exporter": "python",
   "pygments_lexer": "ipython3",
   "version": "3.8.3-final"
  },
  "orig_nbformat": 2,
  "kernelspec": {
   "name": "Python 3.8.3 64-bit ('base': conda)",
   "display_name": "Python 3.8.3 64-bit ('base': conda)",
   "metadata": {
    "interpreter": {
     "hash": "cb61122eaab12a3330e840c66215db14430d3a4090ed5b952942b322a4b0f391"
    }
   }
  }
 },
 "nbformat": 4,
 "nbformat_minor": 2,
 "cells": [
  {
   "cell_type": "code",
   "execution_count": 12,
   "metadata": {
    "tags": []
   },
   "outputs": [
    {
     "output_type": "stream",
     "name": "stdout",
     "text": "5050\n"
    }
   ],
   "source": [
    "# upg 1\n",
    "s,n=0,0 \n",
    "while n<100:\n",
    "    n+=1\n",
    "    s+=n  \n",
    "print (s)\n"
   ]
  },
  {
   "cell_type": "code",
   "execution_count": 23,
   "metadata": {
    "tags": []
   },
   "outputs": [
    {
     "output_type": "stream",
     "name": "stdout",
     "text": "2500\n"
    }
   ],
   "source": [
    "# upg 2\n",
    "s,n=0,1\n",
    "while n<100:\n",
    "    s+=n\n",
    "    n+=2\n",
    "print (s)"
   ]
  },
  {
   "cell_type": "code",
   "execution_count": 31,
   "metadata": {
    "tags": []
   },
   "outputs": [
    {
     "output_type": "stream",
     "name": "stdout",
     "text": "1267650600228229401496703205376\n1.5\n"
    }
   ],
   "source": [
    "# upg 3\n",
    "x=int(input(\"Ange hur långt summan forsätter:  \"))\n",
    "x=2**x\n",
    "y,z=1,0\n",
    "print (x)\n",
    "while y<x:\n",
    "    z+=1/y\n",
    "    y+=y*2\n",
    "print (z)\n",
    "\n",
    "\n",
    "\n"
   ]
  },
  {
   "cell_type": "code",
   "execution_count": null,
   "metadata": {},
   "outputs": [],
   "source": []
  }
 ]
}