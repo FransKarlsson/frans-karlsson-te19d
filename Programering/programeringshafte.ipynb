{
 "metadata": {
  "language_info": {
   "codemirror_mode": {
    "name": "ipython",
    "version": 3
   },
   "file_extension": ".py",
   "mimetype": "text/x-python",
   "name": "python",
   "nbconvert_exporter": "python",
   "pygments_lexer": "ipython3",
   "version": "3.8.3-final"
  },
  "orig_nbformat": 2,
  "kernelspec": {
   "name": "python3",
   "display_name": "Python 3"
  }
 },
 "nbformat": 4,
 "nbformat_minor": 2,
 "cells": [
  {
   "cell_type": "code",
   "execution_count": 7,
   "metadata": {
    "tags": []
   },
   "outputs": [
    {
     "output_type": "stream",
     "name": "stdout",
     "text": "Svar: 4.0cm\n"
    }
   ],
   "source": [
    "k1 = 3\n",
    "h = 5\n",
    "k2 = h**2-k1**2\n",
    "k2 = k2**0.5\n",
    "print (f\"Svar: {k2}cm\")"
   ]
  },
  {
   "cell_type": "code",
   "execution_count": 9,
   "metadata": {
    "tags": []
   },
   "outputs": [
    {
     "output_type": "stream",
     "name": "stdout",
     "text": "Svar: Arean är 2.0cm^2\n"
    }
   ],
   "source": [
    "b = float(input(\"Triangelns bas: \"))\n",
    "h = float(input(\"Triangelns höjd: \"))\n",
    "a = b*h/2\n",
    "print (f\"Svar: Arean är {a}cm^2\")"
   ]
  },
  {
   "cell_type": "code",
   "execution_count": null,
   "metadata": {},
   "outputs": [],
   "source": []
  },
  {
   "cell_type": "code",
   "execution_count": 11,
   "metadata": {
    "tags": []
   },
   "outputs": [
    {
     "output_type": "stream",
     "name": "stdout",
     "text": "Distance: 17\n"
    }
   ],
   "source": [
    "db = 4\n",
    "dh = 1\n",
    "h = db**2+dh**2\n",
    "h = h**0.5\n",
    "print (f\"Distance: {h}\") "
   ]
  },
  {
   "cell_type": "code",
   "execution_count": 13,
   "metadata": {
    "tags": []
   },
   "outputs": [
    {
     "output_type": "stream",
     "name": "stdout",
     "text": "Distance: 1.4142135623730951\n"
    }
   ],
   "source": [
    "dx = 2-1\n",
    "dy = 1-0\n",
    "h = dx**2+dy**2\n",
    "h = h**0.5\n",
    "print (f\"Distance: {h}\")"
   ]
  },
  {
   "cell_type": "code",
   "execution_count": 17,
   "metadata": {
    "tags": []
   },
   "outputs": [
    {
     "output_type": "stream",
     "name": "stdout",
     "text": "Avståndet är: 5.0\n"
    }
   ],
   "source": [
    "p1x = float(input(\"Första pungtens x-värde\"))\n",
    "p1y = float(input(\"Första pungtens y-värde\"))\n",
    "p2x = float(input(\"Andra pungtens x-värde\"))\n",
    "p2y = float(input(\"Andra pungtens y-värde\"))\n",
    "dx = p1x-p2x\n",
    "dy = p1y-p2y\n",
    "h = dx**2+dy**2\n",
    "h = h**0.5\n",
    "print (f\"Avståndet är: {h}\")\n"
   ]
  },
  {
   "cell_type": "code",
   "execution_count": 3,
   "metadata": {
    "tags": []
   },
   "outputs": [
    {
     "output_type": "stream",
     "name": "stdout",
     "text": "Talet är negativt\n"
    }
   ],
   "source": [
    "num = int(input(\"Enter a whole number\"))\n",
    "if num == 0:\n",
    "     print (\"Talet är noll.\")\n",
    "if num > 0:\n",
    "    print (\"Talet är possetivt\")\n",
    "else:\n",
    "    print (\"Talet är negativt\")"
   ]
  },
  {
   "cell_type": "code",
   "execution_count": 11,
   "metadata": {
    "tags": []
   },
   "outputs": [
    {
     "output_type": "stream",
     "name": "stdout",
     "text": "talet är udda\n"
    }
   ],
   "source": [
    "num = int(input(\"Ange ett heltal\"))\n",
    "if num %5==0:\n",
    "    print (\"Talet är delbart med fem\")\n",
    "elif num%2==0:\n",
    "    print (\"Talet är jämt\")\n",
    "else:\n",
    "    print (\"talet är udda\")\n",
    "\n",
    "\n"
   ]
  },
  {
   "cell_type": "code",
   "execution_count": 17,
   "metadata": {
    "tags": []
   },
   "outputs": [
    {
     "output_type": "stream",
     "name": "stdout",
     "text": "Tal 4 är störst\n"
    }
   ],
   "source": [
    "tal1 = float(input(\"ange värdet för tal 1\"))\n",
    "tal2 = float(input(\"Ange värdet för tal 2\"))\n",
    "tal3 = float(input(\"Ange värdet för tal 3\"))\n",
    "tal4 = float(input(\"Ange värdet för tal 4\"))\n",
    "if tal1>tal2 and tal3 and tal4:\n",
    "    print (\"Tal 1 är störst\")\n",
    "elif tal2>tal3 and tal4:\n",
    "    print (\"Tal 2 är störst\")\n",
    "elif tal3>tal4:\n",
    "    print (\"Tal 3 är störst\")\n",
    "else:\n",
    "    print (\"Tal 4 är störst\")"
   ]
  },
  {
   "cell_type": "code",
   "execution_count": null,
   "metadata": {},
   "outputs": [],
   "source": []
  }
 ]
}