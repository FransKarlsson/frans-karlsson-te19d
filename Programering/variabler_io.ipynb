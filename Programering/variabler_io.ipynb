{
 "metadata": {
  "orig_nbformat": 2,
  "kernelspec": {
   "name": "python3",
   "display_name": "Python 3"
  }
 },
 "nbformat": 4,
 "nbformat_minor": 2,
 "cells": [
  {
   "cell_type": "markdown",
   "metadata": {},
   "source": [
    "# Tyngdkraft \n",
    "\n",
    "* Fråga användaren om sin vikt\n",
    "* Beräkna tyngdkraften \n",
    "\n",
    "$F = mg$\n"
   ]
  },
  {
   "cell_type": "code",
   "execution_count": 7,
   "metadata": {
    "tags": []
   },
   "outputs": [
    {
     "output_type": "stream",
     "name": "stdout",
     "text": "Din tyngdkraft är 589.2N\nDin tyngdkraft är 589.2 N\n"
    }
   ],
   "source": [
    "# skapar en variabel g och tilldelar det värdet 9.82\n",
    "g = 9.82\n",
    "\n",
    "# input ger oss en sträng, float typomvandlar den till flyttal\n",
    "m = float(input(\"Hur mycket väger du? \"))\n",
    "\n",
    "F = m*g # 599.02\n",
    "\n",
    "print(f\"Din tyngdkraft är {F}N\") #f-string \n",
    "print(\"Din tyngdkraft är\",F,\"N\") "
   ]
  },
  {
   "cell_type": "markdown",
   "metadata": {},
   "source": [
    "# Procent\n",
    "\n",
    "* Fråga användaren om ett decimaltal\n",
    "* Omvandla talet till procent\n"
   ]
  },
  {
   "cell_type": "code",
   "execution_count": 11,
   "metadata": {
    "tags": []
   },
   "outputs": [
    {
     "output_type": "stream",
     "name": "stdout",
     "text": "0.58 = 58%\n0.58 = 58 %\n"
    }
   ],
   "source": [
    "decimalTal = float(input(\"Ange ett decimaltal: \"))\n",
    "procent = decimalTal*100\n",
    "\n",
    "print(f\"{decimalTal} = {procent:.0f}%\")\n",
    "print(decimalTal,\"=\",round(procent),\"%\")"
   ]
  },
  {
   "cell_type": "markdown",
   "metadata": {},
   "source": [
    "# K $\\rightarrow$ °C\n",
    "\n",
    "* Fråga användaren att ange temperaturen i Kelvin och omvandla till °C"
   ]
  },
  {
   "cell_type": "code",
   "execution_count": null,
   "metadata": {},
   "outputs": [],
   "source": [
    "K = float(input(\"Ange en temperatur i kelvin: \"))\n",
    "c = K-273.15\n",
    "print (f\"{K}k = {c}°c\")"
   ]
  },
  {
   "cell_type": "markdown",
   "metadata": {},
   "source": [
    "# °C $\\rightarrow$ K\n",
    "* Fråga användaren att ange temperaturen i Kelvin och omvandla till °C"
   ]
  },
  {
   "cell_type": "code",
   "execution_count": null,
   "metadata": {},
   "outputs": [],
   "source": [
    "C = float(input(\"Ange temperauren i c:  \"))\n",
    "K = C+273.15\n",
    "print (f\"{C}°c = {K}k\")"
   ]
  },
  {
   "cell_type": "markdown",
   "metadata": {},
   "source": [
    "# Västtrafik \n",
    "\n",
    "Engångsbiljett - 30kr <br>\n",
    "månadskort - 775kr\n",
    "\n",
    "Fråga användaren hur många gånger hen åker med västtrafik. Beräkna totala kostnaden om användaren betalar med engångsbiljetter. \n",
    "\n",
    "Bonus: utöka programmet för att ta reda på om det är värt att köpa månadskort eller inte."
   ]
  },
  {
   "cell_type": "code",
   "execution_count": 6,
   "metadata": {
    "tags": []
   },
   "outputs": [
    {
     "output_type": "stream",
     "name": "stdout",
     "text": "Du betalar 300.0kr varge månad på bussbiljetter om du köper engångsbiljetter\nMånadskort rekomenderas inte.\n"
    }
   ],
   "source": [
    "n = float(input(\"Hur ofta åker du med västtrafik per månad? \"))\n",
    "k = n*30\n",
    "print (f\"Du betalar {k}kr varge månad på bussbiljetter om du köper engångsbiljetter.\")\n",
    "if k < 775:\n",
    "    print (\"Månadskort rekomenderas inte.\")\n",
    "else:\n",
    "    print (\"Månadskort rekomenderas.\")"
   ]
  },
  {
   "cell_type": "code",
   "execution_count": null,
   "metadata": {},
   "outputs": [],
   "source": []
  }
 ]
}