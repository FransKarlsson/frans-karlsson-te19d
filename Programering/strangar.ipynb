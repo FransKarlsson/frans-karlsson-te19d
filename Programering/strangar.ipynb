{
 "metadata": {
  "language_info": {
   "codemirror_mode": {
    "name": "ipython",
    "version": 3
   },
   "file_extension": ".py",
   "mimetype": "text/x-python",
   "name": "python",
   "nbconvert_exporter": "python",
   "pygments_lexer": "ipython3",
   "version": "3.8.3-final"
  },
  "orig_nbformat": 2,
  "kernelspec": {
   "name": "Python 3.8.3 64-bit ('base': conda)",
   "display_name": "Python 3.8.3 64-bit ('base': conda)",
   "metadata": {
    "interpreter": {
     "hash": "cb61122eaab12a3330e840c66215db14430d3a4090ed5b952942b322a4b0f391"
    }
   }
  }
 },
 "nbformat": 4,
 "nbformat_minor": 2,
 "cells": [
  {
   "cell_type": "code",
   "execution_count": 2,
   "metadata": {},
   "outputs": [
    {
     "output_type": "stream",
     "name": "stdout",
     "text": [
      "Frans inehåller 5 bokstäver\n"
     ]
    }
   ],
   "source": [
    "namn = (input(\"Skriv in ditt namn\"))\n",
    "längd = len(namn)\n",
    "print (f\"{namn} inehåller {längd} bokstäver\")"
   ]
  },
  {
   "cell_type": "code",
   "execution_count": 7,
   "metadata": {},
   "outputs": [
    {
     "output_type": "stream",
     "name": "stdout",
     "text": [
      "q q q q q q q q q q inehåller 10 ord\n"
     ]
    }
   ],
   "source": [
    "mening = (input(\"Skriv in en mening\")) #Programmet kollar alla texken och letar efter mellanslag, när det hittar ett så höjer det antalord med 1 (Programmet antar att det alltid fins minst ett ord)\n",
    "antalord = 1\n",
    "längd = len(mening) #Hämtar ut meningens längd\n",
    "for i in range(0,längd): #Upprepar koden lika många gånger som meningen har ord\n",
    "    if mening[i] == \" \": #Kontrollerar att tecknet som programmet kollar är ett mellanslag, om ja så höjs antalord med ett annors inte\n",
    "        antalord += 1\n",
    "    else: \n",
    "        antalord += 0\n",
    "print (f\"{mening} inehåller {antalord} ord\")\n",
    "\n"
   ]
  },
  {
   "cell_type": "code",
   "execution_count": null,
   "metadata": {},
   "outputs": [],
   "source": []
  }
 ]
}