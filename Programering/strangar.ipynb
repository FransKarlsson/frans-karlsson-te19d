{
 "metadata": {
  "language_info": {
   "codemirror_mode": {
    "name": "ipython",
    "version": 3
   },
   "file_extension": ".py",
   "mimetype": "text/x-python",
   "name": "python",
   "nbconvert_exporter": "python",
   "pygments_lexer": "ipython3",
   "version": "3.8.3-final"
  },
  "orig_nbformat": 2,
  "kernelspec": {
   "name": "Python 3.8.3 64-bit ('base': conda)",
   "display_name": "Python 3.8.3 64-bit ('base': conda)",
   "metadata": {
    "interpreter": {
     "hash": "cb61122eaab12a3330e840c66215db14430d3a4090ed5b952942b322a4b0f391"
    }
   }
  }
 },
 "nbformat": 4,
 "nbformat_minor": 2,
 "cells": [
  {
   "cell_type": "code",
   "execution_count": 2,
   "metadata": {},
   "outputs": [
    {
     "output_type": "stream",
     "name": "stdout",
     "text": [
      "Frans inehåller 5 bokstäver\n"
     ]
    }
   ],
   "source": [
    "namn = (input(\"Skriv in ditt namn\"))\n",
    "längd = len(namn)\n",
    "print (f\"{namn} inehåller {längd} bokstäver\")"
   ]
  },
  {
   "cell_type": "code",
   "execution_count": 1,
   "metadata": {},
   "outputs": [
    {
     "output_type": "stream",
     "name": "stdout",
     "text": [
      "det har regnat hela dagen, men nu har jag äntligen köpt en ny hamster inehåller 14 ord\n"
     ]
    }
   ],
   "source": [
    "mening = (input(\"Skriv in en mening\")) #Programmet kollar alla tecken och letar efter mellanslag, när det hittar ett så höjer det antalord med 1 (Programmet antar att det alltid fins minst ett ord)\n",
    "antalord = 1\n",
    "längd = len(mening) #Hämtar ut meningens längd\n",
    "for i in range(0,längd): #Upprepar koden lika många gånger som meningen har ord\n",
    "    if mening[i] == \" \": #Kontrollerar att tecknet som programmet kollar är ett mellanslag, om ja så höjs                                   antalord med ett annars inte\n",
    "        antalord += 1\n",
    "    else: \n",
    "        antalord += 0\n",
    "print (f\"{mening} inehåller {antalord} ord\")\n",
    "\n"
   ]
  },
  {
   "cell_type": "code",
   "execution_count": 14,
   "metadata": {},
   "outputs": [
    {
     "output_type": "stream",
     "name": "stdout",
     "text": [
      "Ditt ord kan inte inehlla mellanslag!\n"
     ]
    }
   ],
   "source": [
    "#Uppgift 3 a:\n",
    "ord = \"hello world\"\n",
    "antalmellanslag = ord.count(\" \")\n",
    "if antalmellanslag != 0:\n",
    "    print (\"Ditt ord kan inte inehlla mellanslag!\")\n",
    "else:\n",
    "    if len(ord)%2 = 0\n",
    "    ord = "
   ]
  },
  {
   "cell_type": "code",
   "execution_count": 26,
   "metadata": {},
   "outputs": [
    {
     "output_type": "error",
     "ename": "TypeError",
     "evalue": "slice indices must be integers or None or have an __index__ method",
     "traceback": [
      "\u001b[1;31m---------------------------------------------------------------------------\u001b[0m",
      "\u001b[1;31mTypeError\u001b[0m                                 Traceback (most recent call last)",
      "\u001b[1;32m<ipython-input-26-18248d2900c0>\u001b[0m in \u001b[0;36m<module>\u001b[1;34m\u001b[0m\n\u001b[0;32m      1\u001b[0m \u001b[0mord\u001b[0m \u001b[1;33m=\u001b[0m \u001b[1;34m\"Hejsan\"\u001b[0m\u001b[1;33m\u001b[0m\u001b[1;33m\u001b[0m\u001b[0m\n\u001b[1;32m----> 2\u001b[1;33m \u001b[0mprint\u001b[0m \u001b[1;33m(\u001b[0m\u001b[0mord\u001b[0m\u001b[1;33m[\u001b[0m\u001b[1;36m0\u001b[0m\u001b[1;33m:\u001b[0m\u001b[0mlen\u001b[0m\u001b[1;33m(\u001b[0m\u001b[0mord\u001b[0m\u001b[1;33m)\u001b[0m\u001b[1;33m/\u001b[0m\u001b[1;36m2\u001b[0m\u001b[1;33m]\u001b[0m\u001b[1;33m)\u001b[0m\u001b[1;33m\u001b[0m\u001b[1;33m\u001b[0m\u001b[0m\n\u001b[0m",
      "\u001b[1;31mTypeError\u001b[0m: slice indices must be integers or None or have an __index__ method"
     ]
    }
   ],
   "source": [
    "ord = \"Hejsan\"\n",
    "print (ord[0:len(ord)/2])"
   ]
  },
  {
   "cell_type": "code",
   "execution_count": null,
   "metadata": {},
   "outputs": [],
   "source": []
  }
 ]
}