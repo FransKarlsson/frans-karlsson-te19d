{
 "cells": [
  {
   "cell_type": "code",
   "execution_count": 1,
   "metadata": {},
   "outputs": [
    {
     "output_type": "stream",
     "name": "stdout",
     "text": [
      "                                       Befolkningen 16+ år efter sysselsättning, ålder, kön och år\nsysselsättning       ålder    kön                                                   2019          \nförvärvsarbetande    16-19 år män                                                  58826          \n                              kvinnor                                              72847          \n                     20-24 år män                                                 192696          \n                              kvinnor                                             174074          \n                     25-29 år män                                                 293352          \n                              kvinnor                                             268587          \n                     30-34 år män                                                 303019          \n                              kvinnor                                             271975          \n                     35-39 år män                                                 280522          \n                              kvinnor                                             255391          \n                     40-44 år män                                                 275085          \n                              kvinnor                                             260093          \nej förvärvsarbetande 16-19 år män                                                 176860          \n                              kvinnor                                             143432          \n                     20-24 år män                                                 117928          \n                              kvinnor                                             103001          \n                     25-29 år män                                                  86633          \n                              kvinnor                                              91124          \n                     30-34 år män                                                  64162          \n                              kvinnor                                              76735          \n                     35-39 år män                                                  53373          \n                              kvinnor                                              61312          \n                     40-44 år män                                                  46857          \n                              kvinnor                                              49228          \n"
     ]
    }
   ],
   "source": [
    "import pandas as pd\n",
    "df = pd.read_csv(\"sysselsättning.csv\")\n",
    "print(df)\n",
    "\n"
   ]
  },
  {
   "source": [
    "Svar\n",
    "a) \n"
   ],
   "cell_type": "markdown",
   "metadata": {}
  }
 ],
 "metadata": {
  "kernelspec": {
   "name": "python394jvsc74a57bd06000f96befadf2508b3b83ebaa71079d71e63af4f8c5576947421adb92268e8f",
   "display_name": "Python 3.9.4 64-bit"
  },
  "language_info": {
   "codemirror_mode": {
    "name": "ipython",
    "version": 3
   },
   "file_extension": ".py",
   "mimetype": "text/x-python",
   "name": "python",
   "nbconvert_exporter": "python",
   "pygments_lexer": "ipython3",
   "version": "3.9.4"
  },
  "metadata": {
   "interpreter": {
    "hash": "6000f96befadf2508b3b83ebaa71079d71e63af4f8c5576947421adb92268e8f"
   }
  }
 },
 "nbformat": 4,
 "nbformat_minor": 4
}